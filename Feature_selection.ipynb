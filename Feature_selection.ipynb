{
 "cells": [
  {
   "cell_type": "markdown",
   "id": "a6568081-1e0a-4069-b258-665dd14035d3",
   "metadata": {},
   "source": [
    "# Feature Selection stage"
   ]
  },
  {
   "cell_type": "code",
   "execution_count": 88,
   "id": "75f84a1a-22c3-48ec-8fea-ce54b36797d4",
   "metadata": {},
   "outputs": [],
   "source": [
    "import numpy as np\n",
    "import pandas as pd\n",
    "import matplotlib.pyplot as plt\n",
    "import seaborn as sns\n",
    "import warnings\n",
    "warnings.filterwarnings(\"ignore\")\n",
    "\n",
    "from sklearn.linear_model import Lasso, Ridge\n",
    "from sklearn.svm import LinearSVR\n",
    "from sklearn.ensemble import GradientBoostingRegressor, RandomForestRegressor"
   ]
  },
  {
   "cell_type": "code",
   "execution_count": 74,
   "id": "eeaaa6a5-d02e-4dd6-a349-d3a1d8772e0d",
   "metadata": {},
   "outputs": [],
   "source": [
    "df_spotify_2 = pd.read_pickle(r'C:\\Users\\kagan\\Dropbox\\קורס DS בר-אילן\\שיעורים\\Projects\\Project 3 - ML preparation and model\\Spotify_data\\spotify_df_after_eda.pkl')"
   ]
  },
  {
   "cell_type": "code",
   "execution_count": 76,
   "id": "c31497fa-513d-4747-b252-1d2ecdeefa23",
   "metadata": {},
   "outputs": [],
   "source": [
    "\n",
    "# Assuming X and y are already defined from your modeling DataFrame (df_model)\n",
    "# and that X has only numeric/boolean features.\n",
    "X = df_spotify_2.drop('track_popularity', axis=1)\n",
    "X = X.select_dtypes(include=['number', 'bool'])\n",
    "y = df_spotify_2['track_popularity']"
   ]
  },
  {
   "cell_type": "code",
   "execution_count": 83,
   "id": "134eb01a-f0a8-41d8-9aec-30aa35f73304",
   "metadata": {},
   "outputs": [],
   "source": [
    "\n",
    "y = y.astype(float)"
   ]
  },
  {
   "cell_type": "code",
   "execution_count": 80,
   "id": "e4a12f76-c4f6-4858-8e48-a700598584c1",
   "metadata": {},
   "outputs": [
    {
     "name": "stdout",
     "output_type": "stream",
     "text": [
      "danceability                 float64\n",
      "energy                       float64\n",
      "key                            int64\n",
      "loudness                     float64\n",
      "mode                           int64\n",
      "speechiness                  float64\n",
      "acousticness                 float64\n",
      "instrumentalness             float64\n",
      "liveness                     float64\n",
      "valence                      float64\n",
      "tempo                        float64\n",
      "duration_ms                    int64\n",
      "track_album_release_year       int64\n",
      "track_album_release_month      int64\n",
      "song_age                       int64\n",
      "decade                         int64\n",
      "genre_edm                    boolean\n",
      "genre_latin                  boolean\n",
      "genre_pop                    boolean\n",
      "genre_r&b                    boolean\n",
      "genre_rap                    boolean\n",
      "genre_rock                   boolean\n",
      "dtype: object\n"
     ]
    }
   ],
   "source": [
    "print(X.dtypes)"
   ]
  },
  {
   "cell_type": "markdown",
   "id": "3189e91b-ba4a-40b1-a9b4-65b3e15717fa",
   "metadata": {},
   "source": [
    "\n",
    "# Feature Selection using multiple regressors \n"
   ]
  },
  {
   "cell_type": "code",
   "execution_count": 94,
   "id": "68f43eb0-e932-4717-a96b-65e5328d61c2",
   "metadata": {},
   "outputs": [
    {
     "name": "stdout",
     "output_type": "stream",
     "text": [
      "Feature selection summary:\n",
      "                      Feature  Lasso  SVR  GradientBoost  RandomForest  Ridge  \\\n",
      "0                danceability      1    1              1             1      1   \n",
      "1                      energy      1    1              1             1      1   \n",
      "2                         key      1    1              1             1      1   \n",
      "3                    loudness      1    1              1             1      1   \n",
      "4                        mode      1    1              1             1      1   \n",
      "5                 speechiness      1    1              1             1      1   \n",
      "6                acousticness      1    1              1             1      1   \n",
      "7            instrumentalness      1    1              1             1      1   \n",
      "8                    liveness      1    1              1             1      1   \n",
      "9                     valence      1    1              1             1      1   \n",
      "10                      tempo      1    1              1             1      1   \n",
      "11                duration_ms      1    1              1             1      1   \n",
      "12   track_album_release_year      1    1              1             1      1   \n",
      "13  track_album_release_month      1    1              1             1      1   \n",
      "14                   song_age      0    1              1             1      1   \n",
      "15                     decade      1    1              1             1      1   \n",
      "16                  genre_edm      1    1              1             1      1   \n",
      "17                genre_latin      1    1              1             1      1   \n",
      "18                  genre_pop      1    1              1             1      1   \n",
      "19                  genre_r&b      1    1              1             1      1   \n",
      "20                  genre_rap      1    1              1             1      1   \n",
      "21                 genre_rock      1    1              1             1      1   \n",
      "\n",
      "    Sum  \n",
      "0     5  \n",
      "1     5  \n",
      "2     5  \n",
      "3     5  \n",
      "4     5  \n",
      "5     5  \n",
      "6     5  \n",
      "7     5  \n",
      "8     5  \n",
      "9     5  \n",
      "10    5  \n",
      "11    5  \n",
      "12    5  \n",
      "13    5  \n",
      "14    4  \n",
      "15    5  \n",
      "16    5  \n",
      "17    5  \n",
      "18    5  \n",
      "19    5  \n",
      "20    5  \n",
      "21    5  \n"
     ]
    }
   ],
   "source": [
    "\n",
    "# Lasso Regression\n",
    "lasso = Lasso(alpha=0.01).fit(X, y)\n",
    "lasso_selected = (np.abs(lasso.coef_) > 0).astype(int)\n",
    "\n",
    "# Ridge Regression\n",
    "ridge = Ridge(alpha=0.01).fit(X, y)\n",
    "ridge_selected = (np.abs(ridge.coef_) > 0).astype(int)\n",
    "\n",
    "# LinearSVR (using dual=True to avoid parameter conflicts)\n",
    "svm = LinearSVR(C=0.01, dual=True, max_iter=10000).fit(X, y)\n",
    "svm_selected = (np.abs(svm.coef_) > 0).astype(int)\n",
    "\n",
    "# Gradient Boosting Regressor\n",
    "gb = GradientBoostingRegressor().fit(X, y)\n",
    "gb_selected = (gb.feature_importances_ > 0).astype(int)\n",
    "\n",
    "# Random Forest Regressor\n",
    "rf = RandomForestRegressor().fit(X, y)\n",
    "rf_selected = (rf.feature_importances_ > 0).astype(int)\n",
    "\n",
    "# Create a DataFrame to store the feature selection results\n",
    "selection_df = pd.DataFrame({\n",
    "    'Feature': X.columns,\n",
    "    'Lasso': lasso_selected, \n",
    "    'SVR': svm_selected,\n",
    "    'GradientBoost': gb_selected,\n",
    "    'RandomForest': rf_selected,\n",
    "    'Ridge': ridge_selected\n",
    "})\n",
    "\n",
    "# Sum the selections for each feature (i.e., count how many models selected each feature)\n",
    "selection_df['Sum'] = selection_df[['Lasso', 'SVR', 'GradientBoost', 'RandomForest', 'Ridge']].sum(axis=1)\n",
    "\n",
    "print(\"Feature selection summary:\")\n",
    "print(selection_df)"
   ]
  },
  {
   "cell_type": "markdown",
   "id": "707a1216-ce6f-4551-94b2-0a5350cad305",
   "metadata": {},
   "source": [
    "# --- Final Feature Selection ---"
   ]
  },
  {
   "cell_type": "markdown",
   "id": "0a021076-9e7a-4fb0-a2cb-2f9c9eb7bd92",
   "metadata": {},
   "source": [
    " Selected variables - recommended by 4 or more models "
   ]
  },
  {
   "cell_type": "code",
   "execution_count": 105,
   "id": "992963af-8113-4672-83e5-d461cb103081",
   "metadata": {},
   "outputs": [
    {
     "name": "stdout",
     "output_type": "stream",
     "text": [
      "\n",
      "Final modeling DataFrame info:\n",
      "<class 'pandas.core.frame.DataFrame'>\n",
      "RangeIndex: 26420 entries, 0 to 26419\n",
      "Data columns (total 23 columns):\n",
      " #   Column                     Non-Null Count  Dtype  \n",
      "---  ------                     --------------  -----  \n",
      " 0   danceability               26420 non-null  float64\n",
      " 1   energy                     26420 non-null  float64\n",
      " 2   key                        26420 non-null  int64  \n",
      " 3   loudness                   26420 non-null  float64\n",
      " 4   mode                       26420 non-null  int64  \n",
      " 5   speechiness                26420 non-null  float64\n",
      " 6   acousticness               26420 non-null  float64\n",
      " 7   instrumentalness           26420 non-null  float64\n",
      " 8   liveness                   26420 non-null  float64\n",
      " 9   valence                    26420 non-null  float64\n",
      " 10  tempo                      26420 non-null  float64\n",
      " 11  duration_ms                26420 non-null  int64  \n",
      " 12  track_album_release_year   26420 non-null  int64  \n",
      " 13  track_album_release_month  26420 non-null  int64  \n",
      " 14  song_age                   26420 non-null  int64  \n",
      " 15  decade                     26420 non-null  int64  \n",
      " 16  genre_edm                  26420 non-null  boolean\n",
      " 17  genre_latin                26420 non-null  boolean\n",
      " 18  genre_pop                  26420 non-null  boolean\n",
      " 19  genre_r&b                  26420 non-null  boolean\n",
      " 20  genre_rap                  26420 non-null  boolean\n",
      " 21  genre_rock                 26420 non-null  boolean\n",
      " 22  track_popularity           26420 non-null  int64  \n",
      "dtypes: boolean(6), float64(9), int64(8)\n",
      "memory usage: 3.7 MB\n"
     ]
    }
   ],
   "source": [
    "\n",
    "# Select variables that were selected by at least 4 out of 5 models\n",
    "threshold = 4\n",
    "final_var = selection_df[selection_df['Sum'] >= threshold]['Feature'].tolist()\n",
    "\n",
    "# Create the final modeling DataFrame with the selected features and the target variable\n",
    "# (Make sure to include the target variable 'track_popularity' even if it wasn't part of X)\n",
    "final_features = final_var + ['track_popularity']\n",
    "df_model_final = df_spotify_2[final_features].copy()\n",
    "\n",
    "# Output the result to verify\n",
    "print(\"\\nFinal modeling DataFrame info:\")\n",
    "df_model_final.info()"
   ]
  },
  {
   "cell_type": "code",
   "execution_count": 110,
   "id": "4ba08703-8f70-4a2f-bfd3-535f32e8df41",
   "metadata": {},
   "outputs": [],
   "source": [
    "# save to pickle for the next step\n",
    "df_model_final.to_pickle(r'C:\\Users\\kagan\\Dropbox\\קורס DS בר-אילן\\שיעורים\\Projects\\Project 3 - ML preparation and model\\Spotify_data\\df_spotify_after_feature_selection.pkl')\n"
   ]
  },
  {
   "cell_type": "code",
   "execution_count": null,
   "id": "75f0f882-7bd4-4a8b-b816-523b77b9ca93",
   "metadata": {},
   "outputs": [],
   "source": []
  }
 ],
 "metadata": {
  "kernelspec": {
   "display_name": "Python [conda env:base] *",
   "language": "python",
   "name": "conda-base-py"
  },
  "language_info": {
   "codemirror_mode": {
    "name": "ipython",
    "version": 3
   },
   "file_extension": ".py",
   "mimetype": "text/x-python",
   "name": "python",
   "nbconvert_exporter": "python",
   "pygments_lexer": "ipython3",
   "version": "3.12.3"
  }
 },
 "nbformat": 4,
 "nbformat_minor": 5
}
